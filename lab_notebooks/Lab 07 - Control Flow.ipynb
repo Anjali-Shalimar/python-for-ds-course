{
 "cells": [
  {
   "cell_type": "markdown",
   "metadata": {},
   "source": [
    "# Lab 07: Control Flow"
   ]
  },
  {
   "cell_type": "markdown",
   "metadata": {},
   "source": [
    "## #1\n",
    "The Python built-in function `input` prompts the user to enter text.\n",
    "Use the `input` function to ask the user for his or her age (you may need to google it or look at docs for examples).\n",
    "\n",
    "- If the user's age is less than 13, print a message telling them that they are a child.\n",
    "- If the user's age is between 13 and 19, print a message telling them that they are a teenager.\n",
    "- If the user is 20 or over, tell them they are old.\n",
    "\n",
    "*Hint: you may want to use the `int()` function to coerce strings to integers.*"
   ]
  },
  {
   "cell_type": "code",
   "execution_count": null,
   "metadata": {},
   "outputs": [],
   "source": []
  },
  {
   "cell_type": "markdown",
   "metadata": {},
   "source": [
    "## #2\n",
    "Using the planes DataFrame, loop through the values in the engine column and count how many contain a dash (-).\n",
    "You may want to use the `in` operator to check if one string is inside another."
   ]
  },
  {
   "cell_type": "code",
   "execution_count": null,
   "metadata": {},
   "outputs": [],
   "source": []
  },
  {
   "cell_type": "markdown",
   "metadata": {},
   "source": [
    "## #3\n",
    "Loop through every row in the planes DataFrame (try `df.iterrows()`) and sum up the number of engines *until* you encounter a plane made by Boeing."
   ]
  },
  {
   "cell_type": "code",
   "execution_count": null,
   "metadata": {},
   "outputs": [],
   "source": []
  },
  {
   "cell_type": "markdown",
   "metadata": {},
   "source": [
    "## #4\n",
    "The fizzbuzz problem (a famous coding interview question):\n",
    "- Loop through the integers from 1 to 100\n",
    "- For any number divisible by 3, print 'fizz'\n",
    "- For any number divisible by 5, print 'buzz'\n",
    "- For any number divisible by both 3 and 5, print 'fizzbuzz'\n",
    "- For all other numbers, just print the number"
   ]
  },
  {
   "cell_type": "code",
   "execution_count": null,
   "metadata": {},
   "outputs": [],
   "source": []
  },
  {
   "cell_type": "markdown",
   "metadata": {},
   "source": [
    "## #5\n",
    "Fill in the blanks in this list comprehension to produce the output [1, 3, 5]:\n",
    "```python\n",
    "[x * _ + _ for x in range(3)]\n",
    "```"
   ]
  },
  {
   "cell_type": "code",
   "execution_count": null,
   "metadata": {},
   "outputs": [],
   "source": []
  },
  {
   "cell_type": "markdown",
   "metadata": {},
   "source": [
    "## #6\n",
    "Given a list `l = [4, 5, 2, 0, 2]`, write a list comprehension that produces `[12, 15, 6, 0, 6]`:\n",
    "```python\n",
    "[ _____ for _ in l]\n",
    "```"
   ]
  },
  {
   "cell_type": "code",
   "execution_count": null,
   "metadata": {},
   "outputs": [],
   "source": []
  },
  {
   "cell_type": "markdown",
   "metadata": {},
   "source": [
    "## #7\n",
    "Write a list comprehension that returns a list of the columns of `planes` in all caps. *Hint: use `planes.columns` in the comprehension.*"
   ]
  },
  {
   "cell_type": "code",
   "execution_count": null,
   "metadata": {},
   "outputs": [],
   "source": []
  }
 ],
 "metadata": {
  "kernelspec": {
   "display_name": "adhoc",
   "language": "python",
   "name": "adhoc"
  },
  "language_info": {
   "codemirror_mode": {
    "name": "ipython",
    "version": 3
   },
   "file_extension": ".py",
   "mimetype": "text/x-python",
   "name": "python",
   "nbconvert_exporter": "python",
   "pygments_lexer": "ipython3",
   "version": "3.7.4"
  }
 },
 "nbformat": 4,
 "nbformat_minor": 4
}
