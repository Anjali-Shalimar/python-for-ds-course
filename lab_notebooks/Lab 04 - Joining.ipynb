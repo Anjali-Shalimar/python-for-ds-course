{
 "cells": [
  {
   "cell_type": "markdown",
   "metadata": {},
   "source": [
    "# Lab 04: Joining"
   ]
  },
  {
   "cell_type": "markdown",
   "metadata": {},
   "source": [
    "## #1\n",
    "You should have already downloaded the [planes data](https://raw.githubusercontent.com/uc-python/intro-python-datasci/master/data/planes.csv).\n",
    "Now download a related dataset – [flights data](https://raw.githubusercontent.com/uc-python/intro-python-datasci/master/data/flights.csv).\n",
    "\n",
    "Note that this is a fairly large dataset and may take a few seconds to download."
   ]
  },
  {
   "cell_type": "markdown",
   "metadata": {},
   "source": [
    "## #2\n",
    "Load in the planes data as `planes` and the flights data as `flights`."
   ]
  },
  {
   "cell_type": "code",
   "execution_count": null,
   "metadata": {},
   "outputs": [],
   "source": []
  },
  {
   "cell_type": "markdown",
   "metadata": {},
   "source": [
    "## #3\n",
    "Based on what you see in the flights dataset, form a hypothesis about what this dataset is.\n",
    "Do you see a column in this data that could match up with a column in the planes data?"
   ]
  },
  {
   "cell_type": "code",
   "execution_count": null,
   "metadata": {},
   "outputs": [],
   "source": []
  },
  {
   "cell_type": "markdown",
   "metadata": {},
   "source": [
    "## #4\n",
    "Just using the flights data, is it possible to determine what percentage of the flights were completed on Boeing planes?\n",
    "Why not?"
   ]
  },
  {
   "cell_type": "code",
   "execution_count": null,
   "metadata": {},
   "outputs": [],
   "source": []
  },
  {
   "cell_type": "markdown",
   "metadata": {},
   "source": [
    "## #5\n",
    "In order to combine this data with the planes data (where the manufacturer column is), we need to do a join.\n",
    "\n",
    "Inner join the planes data to the flights data, storing the result in a variable called `joined_data`."
   ]
  },
  {
   "cell_type": "code",
   "execution_count": null,
   "metadata": {},
   "outputs": [],
   "source": []
  },
  {
   "cell_type": "markdown",
   "metadata": {},
   "source": [
    "## #6\n",
    "How many rows are in the result DataFrame?\n",
    "How does this compare to how many rows were in its parent DataFrames (planes and flights)?"
   ]
  },
  {
   "cell_type": "code",
   "execution_count": null,
   "metadata": {},
   "outputs": [],
   "source": []
  },
  {
   "cell_type": "markdown",
   "metadata": {},
   "source": [
    "## #7\n",
    "What would happen if you did a left join instead of an inner join?\n",
    "Try it, storing the result in a variable called `left_joined_data`.\n",
    "Check how many rows are in this new DataFrame -- why is it different to the number of rows in `joined_data` (from #5)?"
   ]
  },
  {
   "cell_type": "code",
   "execution_count": null,
   "metadata": {},
   "outputs": [],
   "source": []
  },
  {
   "cell_type": "markdown",
   "metadata": {},
   "source": [
    "## #8\n",
    "Using the original joined data, calculate what percentage of flights were completed on Boeing planes."
   ]
  },
  {
   "cell_type": "code",
   "execution_count": null,
   "metadata": {},
   "outputs": [],
   "source": []
  }
 ],
 "metadata": {
  "kernelspec": {
   "display_name": "Python 3",
   "language": "python",
   "name": "python3"
  },
  "language_info": {
   "codemirror_mode": {
    "name": "ipython",
    "version": 3
   },
   "file_extension": ".py",
   "mimetype": "text/x-python",
   "name": "python",
   "nbconvert_exporter": "python",
   "pygments_lexer": "ipython3",
   "version": "3.7.3"
  }
 },
 "nbformat": 4,
 "nbformat_minor": 4
}
