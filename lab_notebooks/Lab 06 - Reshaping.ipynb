{
 "cells": [
  {
   "cell_type": "markdown",
   "metadata": {},
   "source": [
    "# Lab 06: Reshaping"
   ]
  },
  {
   "cell_type": "markdown",
   "metadata": {},
   "source": [
    "## #1\n",
    "Load in the flights data that we've used before."
   ]
  },
  {
   "cell_type": "code",
   "execution_count": null,
   "metadata": {},
   "outputs": [],
   "source": []
  },
  {
   "cell_type": "markdown",
   "metadata": {},
   "source": [
    "## #2\n",
    "Using a pivot table, find the median flight time to go from each origin to each destination.\n",
    "Save that resulting pivot table in a variable called \"pivoted_df\"."
   ]
  },
  {
   "cell_type": "code",
   "execution_count": null,
   "metadata": {},
   "outputs": [],
   "source": []
  },
  {
   "cell_type": "markdown",
   "metadata": {},
   "source": [
    "## #3\n",
    "Experiment with the `.dropna` method -- consult its documentation using the `?`.\n",
    "Use it to drop destinations in your result from #2 where at least one value is `NaN`.\n",
    "Store this \"cleaned\" DataFrame in a variable called \"clean_df\".\n",
    "- destinations may be either rows or columns depending on how you did #2"
   ]
  },
  {
   "cell_type": "code",
   "execution_count": null,
   "metadata": {},
   "outputs": [],
   "source": []
  },
  {
   "cell_type": "markdown",
   "metadata": {},
   "source": [
    "## #4\n",
    "Using your result from #3, extract the destination airport codes as a list.\n",
    "What is the context of these airport codes?\n",
    "i.e. When might it be helpful to have prepared a list of these airport codes?"
   ]
  },
  {
   "cell_type": "code",
   "execution_count": null,
   "metadata": {},
   "outputs": [],
   "source": []
  },
  {
   "cell_type": "markdown",
   "metadata": {},
   "source": [
    "## #5\n",
    "Reload the planes data that we've used before."
   ]
  },
  {
   "cell_type": "code",
   "execution_count": null,
   "metadata": {},
   "outputs": [],
   "source": []
  },
  {
   "cell_type": "markdown",
   "metadata": {},
   "source": [
    "## #6\n",
    "Melt this data, using all columns except tailnum as your value variables.\n",
    "Use tailnum as your identifier.\n",
    "Store the result as \"melted_df\"."
   ]
  },
  {
   "cell_type": "code",
   "execution_count": null,
   "metadata": {},
   "outputs": [],
   "source": []
  },
  {
   "cell_type": "markdown",
   "metadata": {},
   "source": [
    "## #7\n",
    "Use the .pivot method to \"widen\" the data from #6 and put it back in the form it started in."
   ]
  },
  {
   "cell_type": "code",
   "execution_count": null,
   "metadata": {},
   "outputs": [],
   "source": []
  },
  {
   "cell_type": "markdown",
   "metadata": {},
   "source": [
    "#### Challenge Questions\n",
    "1. Using your result from #3 again, run the following code:\n",
    "    - If your row labels (index) are **origin** airport: `clean_df.reset_index().melt(id_vars='origin', value_name='air_time').dropna()`\n",
    "    - If your row labels are **dest**ination airport: `clean_df.reset_index().melt(id_vars='dest', value_name='air_time').dropna()`\n",
    "\n",
    "2. Can you replicate the values in this resulting DataFrame using the original flights data and and performing a groupby and aggregate?\n",
    "    - *Hint: passing `as_index=False` to `.groupby` will keep pandas from moving your grouping columns into the index, making your result look more like the data from #1.*\n",
    "\n",
    "3. Do you have any intuition as to why this works?"
   ]
  },
  {
   "cell_type": "code",
   "execution_count": null,
   "metadata": {},
   "outputs": [],
   "source": []
  }
 ],
 "metadata": {
  "kernelspec": {
   "display_name": "adhoc",
   "language": "python",
   "name": "adhoc"
  },
  "language_info": {
   "codemirror_mode": {
    "name": "ipython",
    "version": 3
   },
   "file_extension": ".py",
   "mimetype": "text/x-python",
   "name": "python",
   "nbconvert_exporter": "python",
   "pygments_lexer": "ipython3",
   "version": "3.7.4"
  }
 },
 "nbformat": 4,
 "nbformat_minor": 4
}
