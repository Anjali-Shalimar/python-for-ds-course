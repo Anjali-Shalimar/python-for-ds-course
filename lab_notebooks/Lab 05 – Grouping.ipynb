{
 "cells": [
  {
   "cell_type": "markdown",
   "metadata": {},
   "source": [
    "# Lab 05: Grouping"
   ]
  },
  {
   "cell_type": "markdown",
   "metadata": {},
   "source": [
    "## #1\n",
    "Reload the `planes` and `flights` DataFrames, from the last lab."
   ]
  },
  {
   "cell_type": "code",
   "execution_count": null,
   "metadata": {},
   "outputs": [],
   "source": []
  },
  {
   "cell_type": "markdown",
   "metadata": {},
   "source": [
    "## #2\n",
    "What is the average departure delay (`dep_delay`) of all flights in this data?"
   ]
  },
  {
   "cell_type": "code",
   "execution_count": null,
   "metadata": {},
   "outputs": [],
   "source": []
  },
  {
   "cell_type": "markdown",
   "metadata": {},
   "source": [
    "## #3\n",
    "What is the average departure delay by carrier, for flights in this data?"
   ]
  },
  {
   "cell_type": "code",
   "execution_count": null,
   "metadata": {},
   "outputs": [],
   "source": []
  },
  {
   "cell_type": "markdown",
   "metadata": {},
   "source": [
    "## #4\n",
    "If you followed the groupby-agg workflow we covered in lecture, you passed your summary function within a list.\n",
    "\n",
    "Try removing the brackets and rerunning #3.\n",
    "What's different about the result?\n",
    "Why do you think we focused on the list-based approach in class?"
   ]
  },
  {
   "cell_type": "code",
   "execution_count": null,
   "metadata": {},
   "outputs": [],
   "source": []
  },
  {
   "cell_type": "markdown",
   "metadata": {},
   "source": [
    "## #5\n",
    "\n",
    "Working from your code for #3, calculate the minimum, mean, median, and maximum departure delay for each carrier.\n",
    "Don't do this in 4 separate lines -- you can achieve this result using a single invocation of `groupby` and a single invocation of `agg`."
   ]
  },
  {
   "cell_type": "code",
   "execution_count": null,
   "metadata": {},
   "outputs": [],
   "source": []
  },
  {
   "cell_type": "markdown",
   "metadata": {},
   "source": [
    "## #6\n",
    "\n",
    "Perhaps, after doing some research, you discover that the most meaningful statistic for departure delay is the *average delay*, but the most meaningful way to measure air time is the *median air time*.\n",
    "Build a groupby-agg invocation that summarizes – at the carrier level – the average departure delay and the median air time.\n"
   ]
  },
  {
   "cell_type": "code",
   "execution_count": null,
   "metadata": {},
   "outputs": [],
   "source": []
  },
  {
   "cell_type": "markdown",
   "metadata": {},
   "source": [
    "## #7\n",
    "What is the single most common route in this data?\n",
    "That is to say, what combination of values for `origin` and `destination` occurs most frequently? *Hint: to order the data yourself, you may want to experiment with the `sort_values` method of Pandas Series.*\n"
   ]
  },
  {
   "cell_type": "code",
   "execution_count": null,
   "metadata": {},
   "outputs": [],
   "source": []
  },
  {
   "cell_type": "markdown",
   "metadata": {},
   "source": [
    "## Challenge question\n",
    "\n",
    "Same as #7, but by carrier: what route is most common for each carrier? You will need to use approaches beyond what we've seen in class, but you should be able to find code that gets you most of the way there just by googling."
   ]
  },
  {
   "cell_type": "code",
   "execution_count": null,
   "metadata": {},
   "outputs": [],
   "source": []
  }
 ],
 "metadata": {
  "kernelspec": {
   "display_name": "adhoc",
   "language": "python",
   "name": "adhoc"
  },
  "language_info": {
   "codemirror_mode": {
    "name": "ipython",
    "version": 3
   },
   "file_extension": ".py",
   "mimetype": "text/x-python",
   "name": "python",
   "nbconvert_exporter": "python",
   "pygments_lexer": "ipython3",
   "version": "3.7.4"
  }
 },
 "nbformat": 4,
 "nbformat_minor": 4
}
