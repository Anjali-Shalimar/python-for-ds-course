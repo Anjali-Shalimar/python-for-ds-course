{
 "cells": [
  {
   "cell_type": "markdown",
   "metadata": {},
   "source": [
    "# Lab 09: Applying Functions to DataFrames"
   ]
  },
  {
   "cell_type": "markdown",
   "metadata": {},
   "source": [
    "## #1\n",
    "Write a transforming function implementing the formula `y = 5x - 2`"
   ]
  },
  {
   "cell_type": "code",
   "execution_count": null,
   "metadata": {},
   "outputs": [],
   "source": []
  },
  {
   "cell_type": "markdown",
   "metadata": {},
   "source": [
    "## #2\n",
    "Create a numeric Pandas Series using the `pd.Series` call we've seen before. Use values of your choice."
   ]
  },
  {
   "cell_type": "code",
   "execution_count": null,
   "metadata": {},
   "outputs": [],
   "source": []
  },
  {
   "cell_type": "markdown",
   "metadata": {},
   "source": [
    "## #3\n",
    "Apply your transforming function from #1 to this Series."
   ]
  },
  {
   "cell_type": "code",
   "execution_count": null,
   "metadata": {},
   "outputs": [],
   "source": []
  },
  {
   "cell_type": "markdown",
   "metadata": {},
   "source": [
    "## #4\n",
    "Repeat #3, but apply `y = 5x - 2` as a lambda function instead of a *named* function."
   ]
  },
  {
   "cell_type": "code",
   "execution_count": null,
   "metadata": {},
   "outputs": [],
   "source": []
  },
  {
   "cell_type": "markdown",
   "metadata": {},
   "source": [
    "## #5\n",
    "Apply this lambda function to your Series: `lambda x: [x, x + 1]`.\n",
    "What type of data is now in each element?\n",
    "Why did that happen?"
   ]
  },
  {
   "cell_type": "code",
   "execution_count": null,
   "metadata": {},
   "outputs": [],
   "source": []
  },
  {
   "cell_type": "markdown",
   "metadata": {},
   "source": [
    "## #6\n",
    "Open the flights data.\n",
    "Create and apply a function such that the result is a Series with one element for each row.\n",
    "*Hint: take a look at the chart from lecture.*"
   ]
  },
  {
   "cell_type": "code",
   "execution_count": null,
   "metadata": {},
   "outputs": [],
   "source": []
  },
  {
   "cell_type": "markdown",
   "metadata": {},
   "source": [
    "## #7\n",
    "Create a function that takes in a row (a Series) and returns a string with \"carrier\" and \"flight\" combined together into one, separated by a dash. I.e. running your function on the first row should yield \"UA-1545\"."
   ]
  },
  {
   "cell_type": "code",
   "execution_count": null,
   "metadata": {},
   "outputs": [],
   "source": []
  },
  {
   "cell_type": "markdown",
   "metadata": {},
   "source": [
    "## #8\n",
    "Apply your function from #7 to every row, and use it to create a new column \"carrier_flight_code\"."
   ]
  },
  {
   "cell_type": "code",
   "execution_count": null,
   "metadata": {},
   "outputs": [],
   "source": []
  },
  {
   "cell_type": "markdown",
   "metadata": {},
   "source": [
    "## #9\n",
    "Suppose we learn that there are some systematic errors in the data. \"dep_delay\" is understated by two minutes for all flights leaving from LGA and overstated by 1 minutes for flights leaving from EWR.\n",
    "It's correct for flights leaving from JFK.\n",
    "Use a custom function and an `apply` to create a new column, \"real_dep_delay\", adjusting for these inaccuracies."
   ]
  },
  {
   "cell_type": "code",
   "execution_count": null,
   "metadata": {},
   "outputs": [],
   "source": []
  },
  {
   "cell_type": "markdown",
   "metadata": {},
   "source": [
    "## #10\n",
    "Subset your flights data to the first 10,000 rows -- the next question is fairly computationally intense, and this will make it run faster."
   ]
  },
  {
   "cell_type": "code",
   "execution_count": null,
   "metadata": {},
   "outputs": [],
   "source": []
  },
  {
   "cell_type": "markdown",
   "metadata": {},
   "source": [
    "## #11\n",
    "You've been assigned to summarize the data in a very particular way:\n",
    "get the modal value of columns whose names start with \"dep\", and get the mean value of columns whose names start with \"arr\".\n",
    "Do this using an applied function.\n",
    "*Hint: remember you can check the name of a Series using its `.name` attribute*"
   ]
  },
  {
   "cell_type": "code",
   "execution_count": null,
   "metadata": {},
   "outputs": [],
   "source": []
  },
  {
   "cell_type": "markdown",
   "metadata": {},
   "source": [
    "## #12\n",
    "How could you have done this without `apply`?\n",
    "There are a few ways.\n",
    "Are any as concise as `apply`?"
   ]
  },
  {
   "cell_type": "code",
   "execution_count": null,
   "metadata": {},
   "outputs": [],
   "source": []
  }
 ],
 "metadata": {
  "kernelspec": {
   "display_name": "adhoc",
   "language": "python",
   "name": "adhoc"
  },
  "language_info": {
   "codemirror_mode": {
    "name": "ipython",
    "version": 3
   },
   "file_extension": ".py",
   "mimetype": "text/x-python",
   "name": "python",
   "nbconvert_exporter": "python",
   "pygments_lexer": "ipython3",
   "version": "3.7.4"
  }
 },
 "nbformat": 4,
 "nbformat_minor": 4
}
